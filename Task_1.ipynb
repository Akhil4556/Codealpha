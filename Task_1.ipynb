{
  "nbformat": 4,
  "nbformat_minor": 0,
  "metadata": {
    "colab": {
      "provenance": [],
      "authorship_tag": "ABX9TyNqyVJPEna4F4qGPB7jMH1r",
      "include_colab_link": true
    },
    "kernelspec": {
      "name": "python3",
      "display_name": "Python 3"
    },
    "language_info": {
      "name": "python"
    }
  },
  "cells": [
    {
      "cell_type": "markdown",
      "metadata": {
        "id": "view-in-github",
        "colab_type": "text"
      },
      "source": [
        "<a href=\"https://colab.research.google.com/github/Akhil4556/Codealpha/blob/main/Task_1.ipynb\" target=\"_parent\"><img src=\"https://colab.research.google.com/assets/colab-badge.svg\" alt=\"Open In Colab\"/></a>"
      ]
    },
    {
      "cell_type": "code",
      "execution_count": 1,
      "metadata": {
        "colab": {
          "base_uri": "https://localhost:8080/"
        },
        "id": "dLGcTVqcRfq2",
        "outputId": "89225f0b-8780-404c-b172-1db33a0edee6"
      },
      "outputs": [
        {
          "output_type": "stream",
          "name": "stdout",
          "text": [
            "Welcome to Hangman!\n",
            "You have 6 chances to guess the word.\n",
            "The word is: _ _ _ _ _ _ _ _ _ _\n",
            "\n",
            "Enter your guess (a single letter): a\n",
            "Correct guess!\n",
            "Word: a _ _ _ _ _ _ _ a _\n",
            "Incorrect guesses: 0/6\n",
            "\n",
            "Enter your guess (a single letter): r\n",
            "Correct guess!\n",
            "Word: a r _ _ _ _ _ _ a _\n",
            "Incorrect guesses: 0/6\n",
            "\n",
            "Enter your guess (a single letter): t\n",
            "Correct guess!\n",
            "Word: a r t _ _ _ _ _ a _\n",
            "Incorrect guesses: 0/6\n",
            "\n",
            "Enter your guess (a single letter): i\n",
            "Correct guess!\n",
            "Word: a r t i _ i _ i a _\n",
            "Incorrect guesses: 0/6\n",
            "\n",
            "Enter your guess (a single letter): f\n",
            "Correct guess!\n",
            "Word: a r t i f i _ i a _\n",
            "Incorrect guesses: 0/6\n",
            "\n",
            "Enter your guess (a single letter): c\n",
            "Correct guess!\n",
            "Word: a r t i f i c i a _\n",
            "Incorrect guesses: 0/6\n",
            "\n",
            "Enter your guess (a single letter): l\n",
            "Correct guess!\n",
            "Word: a r t i f i c i a l\n",
            "Incorrect guesses: 0/6\n",
            "\n",
            "Congratulations! You guessed the word: artificial\n"
          ]
        }
      ],
      "source": [
        "import random\n",
        "\n",
        "def hangman():\n",
        "    # List of words to guess\n",
        "    words = [\"python\", \"programming\", \"hangman\", \"artificial\", \"intelligence\", \"colab\"]\n",
        "    word = random.choice(words).lower()  # Select a random word\n",
        "    guessed_word = [\"_\"] * len(word)  # Placeholder for guessed letters\n",
        "    guessed_letters = set()  # Track guessed letters\n",
        "    incorrect_guesses = 0  # Counter for incorrect guesses\n",
        "    max_incorrect_guesses = 6  # Limit for incorrect guesses\n",
        "\n",
        "    print(\"Welcome to Hangman!\")\n",
        "    print(\"You have\", max_incorrect_guesses, \"chances to guess the word.\")\n",
        "    print(\"The word is:\", \" \".join(guessed_word))\n",
        "\n",
        "    while incorrect_guesses < max_incorrect_guesses and \"_\" in guessed_word:\n",
        "        guess = input(\"\\nEnter your guess (a single letter): \").lower()\n",
        "\n",
        "        # Validate the guess\n",
        "        if len(guess) != 1 or not guess.isalpha():\n",
        "            print(\"Invalid input! Please enter a single alphabet.\")\n",
        "            continue\n",
        "\n",
        "        if guess in guessed_letters:\n",
        "            print(\"You already guessed that letter. Try another.\")\n",
        "            continue\n",
        "\n",
        "        guessed_letters.add(guess)  # Add guess to guessed letters\n",
        "\n",
        "        if guess in word:\n",
        "            print(\"Correct guess!\")\n",
        "            # Reveal the guessed letter in the word\n",
        "            for idx, letter in enumerate(word):\n",
        "                if letter == guess:\n",
        "                    guessed_word[idx] = guess\n",
        "        else:\n",
        "            print(\"Wrong guess!\")\n",
        "            incorrect_guesses += 1\n",
        "\n",
        "        # Display current state\n",
        "        print(\"Word:\", \" \".join(guessed_word))\n",
        "        print(f\"Incorrect guesses: {incorrect_guesses}/{max_incorrect_guesses}\")\n",
        "\n",
        "    # Check win or lose condition\n",
        "    if \"_\" not in guessed_word:\n",
        "        print(\"\\nCongratulations! You guessed the word:\", word)\n",
        "    else:\n",
        "        print(\"\\nGame Over! The word was:\", word)\n",
        "\n",
        "# Run the game\n",
        "hangman()"
      ]
    }
  ]
}