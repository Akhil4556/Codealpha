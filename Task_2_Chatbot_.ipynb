{
  "nbformat": 4,
  "nbformat_minor": 0,
  "metadata": {
    "colab": {
      "provenance": [],
      "authorship_tag": "ABX9TyNfKzamNVDL3o1Y+d9+N8ts",
      "include_colab_link": true
    },
    "kernelspec": {
      "name": "python3",
      "display_name": "Python 3"
    },
    "language_info": {
      "name": "python"
    }
  },
  "cells": [
    {
      "cell_type": "markdown",
      "metadata": {
        "id": "view-in-github",
        "colab_type": "text"
      },
      "source": [
        "<a href=\"https://colab.research.google.com/github/Akhil4556/Codealpha/blob/main/Task_2_Chatbot_.ipynb\" target=\"_parent\"><img src=\"https://colab.research.google.com/assets/colab-badge.svg\" alt=\"Open In Colab\"/></a>"
      ]
    },
    {
      "cell_type": "code",
      "execution_count": null,
      "metadata": {
        "colab": {
          "base_uri": "https://localhost:8080/"
        },
        "id": "0GEubY0rkFU_",
        "outputId": "91e5c5ca-8d35-4676-ffaa-8bdb9faaa5cd"
      },
      "outputs": [
        {
          "output_type": "stream",
          "name": "stdout",
          "text": [
            "Hello, I am your chatbot! Type 'quit' to end the conversation.\n"
          ]
        }
      ],
      "source": [
        "import spacy\n",
        "from nltk.chat.util import Chat, reflections\n",
        "\n",
        "# Load spaCy model\n",
        "nlp = spacy.load(\"en_core_web_sm\")\n",
        "\n",
        "# Define pairs of patterns and responses\n",
        "pairs = [\n",
        "    (r'hi|hello|hey', ['Hello!', 'Hi there!', 'Hey, how can I help you?']),\n",
        "    (r'how are you?', ['I am doing great, thank you!', 'I am just a bot, but I am good!']),\n",
        "    (r'what is your name?', ['I am a chatbot, created to help you!']),\n",
        "    (r'(.*) your name?', ['I am just a chatbot. I do not have a name.']),\n",
        "    (r'quit', ['Goodbye!', 'It was nice talking to you!']),\n",
        "    (r'(.*)', ['I am sorry, I didn’t understand that. Can you try again?']),\n",
        "]\n",
        "\n",
        "# Create a chatbot with the defined patterns and reflections\n",
        "chatbot = Chat(pairs, reflections)\n",
        "\n",
        "# Function to analyze user input with spaCy\n",
        "def analyze_input(user_input):\n",
        "    doc = nlp(user_input)\n",
        "    entities = [(ent.text, ent.label_) for ent in doc.ents]  # Extract named entities (if any)\n",
        "    return entities\n",
        "\n",
        "# Start conversation\n",
        "def start_conversation():\n",
        "    print(\"Hello, I am your chatbot! Type 'quit' to end the conversation.\")\n",
        "    while True:\n",
        "        user_input = input(\"You: \")\n",
        "        if user_input.lower() == \"quit\":\n",
        "            print(\"Goodbye!\")\n",
        "            break\n",
        "\n",
        "        # Analyze user input with spaCy\n",
        "        entities = analyze_input(user_input)\n",
        "        if entities:\n",
        "            print(f\"Bot: I found the following entities in your message: {entities}\")\n",
        "\n",
        "        response = chatbot.respond(user_input)\n",
        "        print(f\"Bot: {response}\")\n",
        "\n",
        "# Start the conversation\n",
        "start_conversation()"
      ]
    }
  ]
}